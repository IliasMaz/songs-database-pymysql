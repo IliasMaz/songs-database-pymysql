{
 "cells": [
  {
   "cell_type": "code",
   "execution_count": 1,
   "id": "102f32ec-a30b-484b-9fc1-fb8ab759b154",
   "metadata": {},
   "outputs": [],
   "source": [
    "import pymysql"
   ]
  },
  {
   "cell_type": "code",
   "execution_count": 11,
   "id": "02edc026-7cfb-4137-8a59-044bc56150a6",
   "metadata": {},
   "outputs": [
    {
     "name": "stdout",
     "output_type": "stream",
     "text": [
      "Τίτλοι τραγουδιών όπου συνθέτης = στιχουργός:\n",
      "ΑΙΡΕΤΙΚΟ\n",
      "ΑΠΑΓΩΓΗ\n",
      "ΕΡΗΜΑ ΒΟΥΝΑ\n",
      "ΚΑΡΑΒΟΤΣΑΚΙΣΜΑΤΑ\n",
      "ΜΑΝΟΥΛΑ ΜΟΥ Ο ΓΙΟΚΑΣ ΣΟΥ\n",
      "ΝΟΣΤΑΛΓΟΣ ΤΟΥ ROCK & ROLL\n",
      "ΦΡΑΓΚΟΣΥΡΙΑΝΗ\n",
      "ΩΡΕΣ ΜΕ ΘΡΕΦΕΙ Ο ΛΟΥΛΑΣ\n"
     ]
    }
   ],
   "source": [
    "mydb=pymysql.connect( \n",
    "  host=\"127.0.0.1\",\n",
    "  user=\"root\",\n",
    "  password=\"\",\n",
    "  database=\"songs\"\n",
    ")\n",
    "\n",
    "mycursor = mydb.cursor()\n",
    "sql = \"SELECT titlos FROM tragoudi WHERE sinthetis = stixourgos;\"\n",
    "\n",
    "mycursor.execute(sql)\n",
    "results = mycursor.fetchall()\n",
    "\n",
    "print(\"Τίτλοι τραγουδιών όπου συνθέτης = στιχουργός:\")\n",
    "for row in results:\n",
    "    print(row[0])\n",
    "mycursor.close()\n",
    "mydb.close()"
   ]
  },
  {
   "cell_type": "code",
   "execution_count": 9,
   "id": "07610f9c-c171-49fe-89c1-153419d30e74",
   "metadata": {},
   "outputs": [
    {
     "name": "stdout",
     "output_type": "stream",
     "text": [
      "Σφάλμα κατά την ενημέρωση: (1054, \"Unknown column 'etaireia' in 'where clause'\")\n"
     ]
    }
   ],
   "source": [
    "import pymysql\n",
    "\n",
    "# Σύνδεση με τη βάση δεδομένων\n",
    "mydb = pymysql.connect(\n",
    "    host=\"127.0.0.1\",\n",
    "    user=\"root\",\n",
    "    password=\"\",\n",
    "    database=\"songs\"\n",
    ")\n",
    "\n",
    "# Δημιουργία cursor\n",
    "mycursor = mydb.cursor()\n",
    "\n",
    "\n",
    "sql_update = \"UPDATE tragoudi SET etaireia = %s WHERE etaireia = %s;\"\n",
    "\n",
    "\n",
    "update_params = ('Sony Music Greece', 'SONY') # Η νέα τιμή, η παλιά τιμή\n",
    "\n",
    "\n",
    "try:\n",
    "    mycursor.execute(sql_update, update_params)\n",
    "    mydb.commit()\n",
    "    print(f\"{mycursor.rowcount} γραμμές ενημερώθηκαν.\") # Εκτυπώνει πόσες γραμμές επηρεάστηκαν\n",
    "\n",
    "except mydb.Error as e:\n",
    "    mydb.rollback()\n",
    "    print(f\"Σφάλμα κατά την ενημέρωση: {e}\")\n",
    "\n",
    "\n",
    "mycursor.close()\n",
    "mydb.close()\n"
   ]
  },
  {
   "cell_type": "code",
   "execution_count": null,
   "id": "01416be2-59e9-4957-a142-892eb77424c1",
   "metadata": {},
   "outputs": [],
   "source": []
  }
 ],
 "metadata": {
  "kernelspec": {
   "display_name": "Python 3 (ipykernel)",
   "language": "python",
   "name": "python3"
  },
  "language_info": {
   "codemirror_mode": {
    "name": "ipython",
    "version": 3
   },
   "file_extension": ".py",
   "mimetype": "text/x-python",
   "name": "python",
   "nbconvert_exporter": "python",
   "pygments_lexer": "ipython3",
   "version": "3.12.4"
  }
 },
 "nbformat": 4,
 "nbformat_minor": 5
}
